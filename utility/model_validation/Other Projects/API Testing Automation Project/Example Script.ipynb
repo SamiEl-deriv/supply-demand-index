{
 "cells": [
  {
   "cell_type": "markdown",
   "id": "377061cc",
   "metadata": {},
   "source": [
    "# Getting Started"
   ]
  },
  {
   "cell_type": "code",
   "execution_count": 1,
   "id": "2b69ae14",
   "metadata": {},
   "outputs": [],
   "source": [
    "import sys\n",
    "import os\n",
    "\n",
    "# Add the path to your `src` directory\n",
    "sys.path.append('/Users/matthewchan/Documents/Repos/Shared/mvlib/src')\n",
    "\n",
    "# Now you can import your mvlib modules\n",
    "import mvlib.api"
   ]
  },
  {
   "cell_type": "code",
   "execution_count": 2,
   "id": "89c6f1cd",
   "metadata": {},
   "outputs": [
    {
     "data": {
      "text/plain": [
       "{'echo_req': {'amount': 10,\n",
       "  'basis': 'stake',\n",
       "  'contract_type': 'ACCU',\n",
       "  'currency': 'USD',\n",
       "  'duration_unit': 's',\n",
       "  'growth_rate': 0.05,\n",
       "  'product_type': 'basic',\n",
       "  'proposal': 1,\n",
       "  'symbol': '1HZ100V'},\n",
       " 'msg_type': 'proposal',\n",
       " 'proposal': {'ask_price': 10,\n",
       "  'contract_details': {'barrier_spot_distance': '0.492',\n",
       "   'high_barrier': '1430.592',\n",
       "   'last_tick_epoch': 1734921907,\n",
       "   'low_barrier': '1429.608',\n",
       "   'maximum_payout': 6000,\n",
       "   'maximum_stake': '1000.00',\n",
       "   'maximum_ticks': 45,\n",
       "   'minimum_stake': '1.00',\n",
       "   'tick_size_barrier': 0.000343833468,\n",
       "   'tick_size_barrier_percentage': '0.03438%',\n",
       "   'ticks_stayed_in': [9,\n",
       "    9,\n",
       "    43,\n",
       "    34,\n",
       "    65,\n",
       "    11,\n",
       "    9,\n",
       "    13,\n",
       "    45,\n",
       "    47,\n",
       "    61,\n",
       "    3,\n",
       "    21,\n",
       "    2,\n",
       "    12,\n",
       "    52,\n",
       "    14,\n",
       "    36,\n",
       "    26,\n",
       "    26,\n",
       "    3,\n",
       "    5,\n",
       "    36,\n",
       "    37,\n",
       "    14,\n",
       "    13,\n",
       "    18,\n",
       "    7,\n",
       "    71,\n",
       "    100,\n",
       "    57,\n",
       "    0,\n",
       "    28,\n",
       "    14,\n",
       "    4,\n",
       "    12,\n",
       "    23,\n",
       "    26,\n",
       "    1,\n",
       "    0,\n",
       "    35,\n",
       "    0,\n",
       "    1,\n",
       "    144,\n",
       "    14,\n",
       "    20,\n",
       "    15,\n",
       "    3,\n",
       "    33,\n",
       "    4,\n",
       "    13,\n",
       "    64,\n",
       "    13,\n",
       "    7,\n",
       "    22,\n",
       "    5,\n",
       "    18,\n",
       "    35,\n",
       "    11,\n",
       "    2,\n",
       "    51,\n",
       "    1,\n",
       "    61,\n",
       "    32,\n",
       "    23,\n",
       "    44,\n",
       "    15,\n",
       "    87,\n",
       "    0,\n",
       "    104,\n",
       "    47,\n",
       "    3,\n",
       "    9,\n",
       "    0,\n",
       "    19,\n",
       "    16,\n",
       "    35,\n",
       "    20,\n",
       "    6,\n",
       "    9,\n",
       "    13,\n",
       "    14,\n",
       "    3,\n",
       "    0,\n",
       "    18,\n",
       "    40,\n",
       "    23,\n",
       "    0,\n",
       "    65,\n",
       "    16,\n",
       "    14,\n",
       "    21,\n",
       "    17,\n",
       "    13,\n",
       "    42,\n",
       "    4,\n",
       "    38,\n",
       "    2,\n",
       "    16,\n",
       "    1,\n",
       "    31,\n",
       "    6,\n",
       "    18,\n",
       "    8,\n",
       "    57,\n",
       "    15,\n",
       "    15,\n",
       "    7,\n",
       "    1,\n",
       "    19,\n",
       "    15,\n",
       "    0,\n",
       "    4,\n",
       "    37,\n",
       "    41,\n",
       "    41,\n",
       "    11,\n",
       "    6,\n",
       "    4,\n",
       "    0,\n",
       "    14,\n",
       "    9,\n",
       "    35,\n",
       "    16,\n",
       "    50,\n",
       "    13,\n",
       "    8,\n",
       "    8,\n",
       "    15,\n",
       "    7,\n",
       "    2,\n",
       "    5,\n",
       "    2,\n",
       "    3,\n",
       "    26,\n",
       "    11,\n",
       "    0,\n",
       "    1,\n",
       "    10,\n",
       "    2,\n",
       "    20,\n",
       "    24,\n",
       "    26,\n",
       "    1,\n",
       "    2,\n",
       "    20,\n",
       "    41,\n",
       "    8,\n",
       "    35,\n",
       "    31,\n",
       "    69,\n",
       "    3,\n",
       "    14,\n",
       "    7,\n",
       "    10,\n",
       "    31,\n",
       "    13,\n",
       "    77,\n",
       "    6,\n",
       "    0,\n",
       "    12,\n",
       "    4,\n",
       "    3,\n",
       "    19,\n",
       "    8,\n",
       "    12,\n",
       "    8,\n",
       "    12,\n",
       "    6,\n",
       "    1,\n",
       "    1,\n",
       "    6,\n",
       "    1,\n",
       "    0,\n",
       "    26,\n",
       "    31,\n",
       "    17,\n",
       "    0,\n",
       "    21,\n",
       "    110,\n",
       "    44,\n",
       "    36,\n",
       "    4,\n",
       "    3,\n",
       "    27,\n",
       "    0,\n",
       "    8,\n",
       "    12,\n",
       "    7,\n",
       "    6,\n",
       "    7,\n",
       "    11,\n",
       "    2,\n",
       "    19,\n",
       "    17,\n",
       "    5,\n",
       "    51,\n",
       "    25,\n",
       "    0,\n",
       "    7]},\n",
       "  'date_expiry': 1766534399,\n",
       "  'date_start': 1734921907,\n",
       "  'display_value': '10.00',\n",
       "  'id': '497f9dca-303b-909f-a8b5-25416cd43c16',\n",
       "  'longcode': 'After the entry spot tick, your stake will grow continuously by 5% for every tick that the spot price remains within the ± 0.03438% from the previous spot price.',\n",
       "  'payout': 0,\n",
       "  'spot': 1430.1,\n",
       "  'spot_time': 1734921907,\n",
       "  'validation_params': {'max_payout': '6000.00',\n",
       "   'max_ticks': 45,\n",
       "   'stake': {'max': '1000.00', 'min': '1.00'},\n",
       "   'take_profit': {'max': '5990.00', 'min': '0.01'}}}}"
      ]
     },
     "metadata": {},
     "output_type": "display_data"
    },
    {
     "data": {
      "text/plain": [
       "1"
      ]
     },
     "execution_count": 2,
     "metadata": {},
     "output_type": "execute_result"
    }
   ],
   "source": [
    "a = mvlib.api.Accumulator()\n",
    "a.price_proposal()"
   ]
  },
  {
   "cell_type": "code",
   "execution_count": 3,
   "id": "9051de81",
   "metadata": {},
   "outputs": [
    {
     "data": {
      "text/plain": [
       "<module 'mvlib.api' from '/Users/matthewchan/Documents/Repos/Shared/mvlib/src/mvlib/api/__init__.py'>"
      ]
     },
     "execution_count": 3,
     "metadata": {},
     "output_type": "execute_result"
    }
   ],
   "source": [
    "mvlib.api"
   ]
  },
  {
   "cell_type": "code",
   "execution_count": null,
   "id": "2738ac86",
   "metadata": {},
   "outputs": [],
   "source": [
    "mvlib.api.symbols"
   ]
  },
  {
   "cell_type": "code",
   "execution_count": null,
   "id": "5ff5d4b8",
   "metadata": {},
   "outputs": [],
   "source": [
    "## Creating a instance of a product class\n",
    "product = mv.Turbo() # The instance of a turbo class"
   ]
  },
  {
   "cell_type": "code",
   "execution_count": null,
   "id": "c1caeec9",
   "metadata": {},
   "outputs": [],
   "source": [
    "## Basic Functions\n",
    "product.price_proposal()"
   ]
  },
  {
   "cell_type": "code",
   "execution_count": null,
   "id": "87ff63f9",
   "metadata": {},
   "outputs": [],
   "source": [
    "# Passing desired contract parameters directly to the function\n",
    "product.buy_contract(stake=5, symbol='R_100')"
   ]
  },
  {
   "cell_type": "code",
   "execution_count": null,
   "id": "d7804ffc",
   "metadata": {},
   "outputs": [],
   "source": [
    "product.api_token='' #setting api_token to enable buying//selling contracts"
   ]
  },
  {
   "cell_type": "code",
   "execution_count": null,
   "id": "92eb82d7",
   "metadata": {},
   "outputs": [],
   "source": [
    "#Check functions\n",
    "# product.check_ppps(runs=5, duration_unit='m')\n",
    "product.check_payout(runs=0)"
   ]
  },
  {
   "cell_type": "code",
   "execution_count": null,
   "id": "6e9720f8",
   "metadata": {},
   "outputs": [],
   "source": [
    "product.check_ppps(runs=5, duration_unit='m')"
   ]
  },
  {
   "cell_type": "code",
   "execution_count": null,
   "id": "031bbd38",
   "metadata": {},
   "outputs": [],
   "source": [
    "#showing that a 'mv' key is added to a message when it is checked with the details of the contract\n",
    "#e.g. available number of contracts, barrier of contract, and the \"pass\" flag of the check\n",
    "for i in product.messages:\n",
    "    if 'mv' in i:\n",
    "        display(i)\n",
    "        break"
   ]
  },
  {
   "cell_type": "code",
   "execution_count": null,
   "id": "8e6fdae5",
   "metadata": {
    "scrolled": true
   },
   "outputs": [],
   "source": [
    "product.export_data()"
   ]
  },
  {
   "cell_type": "code",
   "execution_count": null,
   "id": "456f863b",
   "metadata": {},
   "outputs": [],
   "source": [
    "#running the gui (by default a accumulator instance is used unless specified)\n",
    "mv.run_gui()"
   ]
  },
  {
   "cell_type": "code",
   "execution_count": null,
   "id": "0a43a57e",
   "metadata": {},
   "outputs": [],
   "source": [
    "# If you want to run the gui on your current product instance instead of creating a new product instance. \n",
    "product = mv.run_gui(product)"
   ]
  },
  {
   "cell_type": "code",
   "execution_count": null,
   "id": "6d350867",
   "metadata": {
    "scrolled": true
   },
   "outputs": [],
   "source": [
    "product"
   ]
  },
  {
   "cell_type": "markdown",
   "id": "93b537f8",
   "metadata": {},
   "source": [
    "## Additional "
   ]
  },
  {
   "cell_type": "markdown",
   "id": "1e406a10",
   "metadata": {},
   "source": [
    "### using different endpoints (e.g. when testing on qa box)"
   ]
  },
  {
   "cell_type": "code",
   "execution_count": null,
   "id": "1231cdd6",
   "metadata": {},
   "outputs": [],
   "source": [
    "## You can change the endpoint of the current instance or create a new instance with the desired endpoint\n",
    "\n",
    "product.endpoint = 'wss://qa69.deriv.dev/websockets/v3?app_id=16303'  # change endpoint of current isntance\n",
    "#or\n",
    "new_product = mv.Turbo(endpoint='wss://qa69.deriv.dev/websockets/v3?app_id=16303') # create new instance"
   ]
  },
  {
   "cell_type": "code",
   "execution_count": null,
   "id": "27df5b09",
   "metadata": {},
   "outputs": [],
   "source": []
  },
  {
   "cell_type": "code",
   "execution_count": null,
   "id": "d91f44f1",
   "metadata": {},
   "outputs": [],
   "source": []
  }
 ],
 "metadata": {
  "kernelspec": {
   "display_name": "Python 3 (ipykernel)",
   "language": "python",
   "name": "python3"
  },
  "language_info": {
   "codemirror_mode": {
    "name": "ipython",
    "version": 3
   },
   "file_extension": ".py",
   "mimetype": "text/x-python",
   "name": "python",
   "nbconvert_exporter": "python",
   "pygments_lexer": "ipython3",
   "version": "3.11.9"
  }
 },
 "nbformat": 4,
 "nbformat_minor": 5
}
