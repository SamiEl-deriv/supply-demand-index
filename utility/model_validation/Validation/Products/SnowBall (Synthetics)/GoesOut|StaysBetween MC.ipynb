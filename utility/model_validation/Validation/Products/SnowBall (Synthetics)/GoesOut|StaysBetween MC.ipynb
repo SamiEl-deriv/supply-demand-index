{
 "cells": [
  {
   "cell_type": "code",
   "execution_count": 1,
   "id": "1cfedda7",
   "metadata": {},
   "outputs": [
    {
     "data": {
      "text/html": [
       "<style>.container { width:100% !important; }</style>"
      ],
      "text/plain": [
       "<IPython.core.display.HTML object>"
      ]
     },
     "metadata": {},
     "output_type": "display_data"
    }
   ],
   "source": [
    "import numpy as np\n",
    "import matplotlib.pyplot as plt\n",
    "import pandas as pd\n",
    "from numba import njit\n",
    "from IPython.display import display, HTML\n",
    "display(HTML(\"<style>.container { width:100% !important; }</style>\"))\n",
    "pd.set_option('display.max_colwidth',300)\n",
    "import random\n",
    "import math"
   ]
  },
  {
   "cell_type": "code",
   "execution_count": 19,
   "id": "7f7103c4",
   "metadata": {},
   "outputs": [],
   "source": [
    "@njit\n",
    "def simulate_stock_price(s, dt, v, ticks):\n",
    "    results = [s]\n",
    "    for j in range(ticks):\n",
    "        results.append(round(results[-1] * math.exp(-v**2/2 * dt + v * math.sqrt(dt) * random.normalvariate(0, 1)),2))\n",
    "#         results.append(round(results[-1] * math.exp(-v**2/2 * dt + v * math.sqrt(dt) * np.random.normal(0, 1)),2))\n",
    "    return results\n",
    "\n",
    "@njit\n",
    "def mc_GO(S, higher, lower, ticks, runs, dt, sigma):\n",
    "    price = 0\n",
    "    for i in range(runs):\n",
    "        path = simulate_stock_price(S, dt, sigma, ticks)\n",
    "        if max(path) >= higher or min(path) <= lower:\n",
    "            price += 1\n",
    "    return price/runs\n",
    "\n",
    "@njit\n",
    "def mc_SB(S, higher, lower, ticks, runs, dt, sigma):\n",
    "    return 1 - mc_GO(S, higher, lower, ticks, runs, dt, sigma)"
   ]
  },
  {
   "cell_type": "code",
   "execution_count": 20,
   "id": "afc5b8ee",
   "metadata": {},
   "outputs": [],
   "source": [
    "def determine_K(mu_new, sigma, h, x, t, mu):\n",
    "    delta = (1 / 100000) * np.exp(-((mu - 0.5 * sigma ** 2) * (h - x)) / sigma ** 2) * (h ** 2) / (np.pi * sigma ** 2)\n",
    "    A = (mu_new ** 2) / (2 * sigma ** 2)\n",
    "    B = (np.pi ** 2 * sigma ** 2) / (2 * h ** 2)\n",
    "    numerator = max(1, np.exp(-A * t) / (B * delta))\n",
    "    denominator = B * t\n",
    "    K = int(np.sqrt(np.log(numerator / denominator)))\n",
    "#     print(K)\n",
    "#     return K\n",
    "    return min(max(K, 16), 1000)  # Ensure K is within [16, 1000]\n",
    "\n",
    "def stability_constant(mu, sigma, eta, h, x, epsilon=1e-8):\n",
    "    exponent = 1 - ((mu - 0.5 * sigma ** 2) * (eta * h - x)) / sigma ** 2\n",
    "    numerator = np.exp(exponent)\n",
    "    denominator = epsilon * (np.exp(1) * (np.pi + 1) + max(0, (mu - 0.5 * sigma ** 2) * (eta * h - x) * np.pi / sigma ** 2))\n",
    "    return (1 / 100000) * (numerator / denominator)\n",
    "\n",
    "def common_function_pelsser(eta, S, U, D, t, mu, sigma, r_q, w, epsilon=1e-8):\n",
    "    h = np.log(U / D)\n",
    "    \n",
    "    # Determine x based on eta\n",
    "    x = np.log(S / D) if eta == 1 else np.log(U / S)\n",
    "    \n",
    "    # Calculate mu_new\n",
    "    mu_new = np.sqrt(max(0, (mu - 0.5 * sigma ** 2) ** 2 + 2 * r_q * sigma ** 2 * (1 - w)))\n",
    "#     print(mu_new)\n",
    "    # Determine K\n",
    "    K = determine_K(mu_new, sigma, h, x, t, mu)\n",
    "    # Calculate the first part of the common function (hyperbolic sine term)\n",
    "    first_term = np.sinh((mu_new / sigma ** 2) * x) / np.sinh((mu_new / sigma ** 2) * h)\n",
    "    \n",
    "    # Summation term\n",
    "    sum_term = 0\n",
    "    for k in range(1, K + 1):\n",
    "        lambda_k = 0.5 * ((mu_new ** 2 / sigma ** 2) + (k ** 2 * np.pi ** 2 * sigma ** 2 / h ** 2))\n",
    "        phi = ((sigma ** 2 * k) / (h ** 2 * lambda_k)) * np.exp(-lambda_k * t)\n",
    "        sum_term += phi * np.pi * np.sin(k * np.pi * (h - x) / h)\n",
    "    \n",
    "    # Check stability condition if K=1\n",
    "    if K == 1:\n",
    "        phi = (sigma ** 2 * 1) / (h ** 2 * (0.5 * ((mu_new ** 2 / sigma ** 2) + (1 ** 2 * np.pi ** 2 * sigma ** 2 / h ** 2)))) * np.exp(-0.5 * ((mu_new ** 2 / sigma ** 2) + (1 ** 2 * np.pi ** 2 * sigma ** 2 / h ** 2)) * t)\n",
    "        stab_const = stability_constant(mu, sigma, eta, h, x, epsilon)\n",
    "        if abs(phi) > stab_const:\n",
    "            raise ValueError(\"Stability condition violated: |phi| exceeds the stability constant.\")\n",
    "    \n",
    "    # Return the full common function value\n",
    "    return np.exp(-r_q * t * w) * (first_term - sum_term)\n",
    "\n",
    "\n",
    "def ot_up_ko_down(S, U, D, t, mu, sigma, r_q, w):\n",
    "    h = np.log(U / D)\n",
    "    x = np.log(S / D)\n",
    "    exponent = (mu - 0.5 * sigma ** 2) * (h - x) / sigma ** 2\n",
    "    return np.exp(exponent) * common_function_pelsser(eta=1, S=S, U=U, D=D, t=t, mu=mu, sigma=sigma, r_q=r_q, w=w)\n",
    "\n",
    "def ot_down_ko_up(S, U, D, t, mu, sigma, r_q, w):\n",
    "    x = np.log(U / S)\n",
    "    exponent = (mu - 0.5 * sigma ** 2) * x / sigma ** 2\n",
    "    return np.exp(exponent) * common_function_pelsser(eta=0, S=S, U=U, D=D, t=t, mu=mu, sigma=sigma, r_q=r_q, w=w)\n",
    "\n",
    "def up_or_down(S, U, D, t, sigma, r_q, w, mu):\n",
    "    ot_up_ko_down_price = ot_up_ko_down(S, U, D, t, mu, sigma, r_q, w)\n",
    "    ot_down_ko_up_price = ot_down_ko_up(S, U, D, t, mu, sigma, r_q, w)\n",
    "#     print(ot_up_ko_down_price,ot_down_ko_up_price)\n",
    "    return ot_up_ko_down_price + ot_down_ko_up_price\n"
   ]
  },
  {
   "cell_type": "code",
   "execution_count": 59,
   "id": "23160578",
   "metadata": {},
   "outputs": [],
   "source": [
    "def compute_prices(df, S, higher, lower, ticks, stake, runs=100000, sigma=1, mu=0, r_q=0, w=0, comm=1.2):\n",
    "\n",
    "    t = ticks/365/86400\n",
    "    beta = 0.5826\n",
    "    dt = 1 / (365 * 86400)\n",
    "    U = higher * np.exp(1 * beta * sigma * np.sqrt(dt))\n",
    "    D = lower * np.exp(-1 * beta * sigma * np.sqrt(dt))\n",
    "    comm /= 100\n",
    "\n",
    "    price_GO = up_or_down(S, U, D, t, sigma, r_q, w, mu=0)\n",
    "    payout_GO = stake/(price_GO+comm)\n",
    "    \n",
    "    price_SB = 1 - price_GO\n",
    "    payout_SB = stake/(price_SB+comm)\n",
    "    \n",
    "    price_GO_mc = mc_GO(S, higher, lower, ticks, runs, dt, sigma)\n",
    "    payout_GO_mc = stake/(price_GO_mc+comm)\n",
    "    \n",
    "    price_SB_mc = 1 - price_GO_mc\n",
    "    payout_SB_mc = stake/(price_SB_mc+comm)\n",
    "\n",
    "    # Create a DataFrame\n",
    "#     df = pd.DataFrame()\n",
    "\n",
    "    row = len(df)-1\n",
    "    # Assign variables to the DataFrame\n",
    "    df.at[row, 'price_GO'] = price_GO\n",
    "    df.at[row, 'price_GO_mc'] = price_GO_mc\n",
    "    df.at[row, 'diff_GO'] = (price_GO_mc - price_GO) * 100\n",
    "    df.at[row, 'payout_GO'] = payout_GO\n",
    "    df.at[row, 'payout_GO_mc'] = payout_GO_mc\n",
    "    df.at[row, 'price_SB'] = price_SB\n",
    "    df.at[row, 'price_SB_mc'] = price_SB_mc\n",
    "    df.at[row, 'diff_SB'] = (price_SB_mc - price_SB) * 100\n",
    "    df.at[row, 'payout_SB'] = payout_SB\n",
    "    df.at[row, 'payout_SB_mc'] = payout_SB_mc\n",
    "\n",
    "    display(df)"
   ]
  },
  {
   "cell_type": "code",
   "execution_count": 63,
   "id": "6c2c6292",
   "metadata": {},
   "outputs": [],
   "source": [
    "df = pd.DataFrame(columns = ['spot', 'high_bar', 'low_bar', 'ticks', 'stake', 'mc_runs', 'price_GO', 'price_GO_mc', 'diff_GO', \\\n",
    "                             'payout_GO', 'payout_GO_mc', 'price_SB', 'price_SB_mc', 'diff_SB', 'payout_SB', 'payout_SB_mc'])"
   ]
  },
  {
   "cell_type": "code",
   "execution_count": null,
   "id": "4bd105ef",
   "metadata": {},
   "outputs": [],
   "source": [
    "# Sample parameters\n",
    "S = 450\n",
    "bar_diff = 200\n",
    "higher = S+bar_diff\n",
    "lower = S-bar_diff\n",
    "ticks = 2 * 30 * 86400\n",
    "stake = 100\n",
    "runs = 3000\n",
    "row = len(df)\n",
    "df.at[row, 'spot'] = S\n",
    "df.at[row, 'high_bar'] = higher\n",
    "df.at[row, 'low_bar'] = lower\n",
    "df.at[row, 'ticks'] = ticks\n",
    "df.at[row, 'stake'] = stake\n",
    "df.at[row, 'mc_runs'] = runs\n",
    "compute_prices(df=df, S=S, higher=higher, lower=lower, ticks=ticks, stake=stake, runs=runs)"
   ]
  },
  {
   "cell_type": "code",
   "execution_count": null,
   "id": "f0b9b0a5",
   "metadata": {},
   "outputs": [],
   "source": []
  },
  {
   "cell_type": "code",
   "execution_count": null,
   "id": "50b56117",
   "metadata": {},
   "outputs": [],
   "source": []
  }
 ],
 "metadata": {
  "kernelspec": {
   "display_name": "Python 3 (ipykernel)",
   "language": "python",
   "name": "python3"
  },
  "language_info": {
   "codemirror_mode": {
    "name": "ipython",
    "version": 3
   },
   "file_extension": ".py",
   "mimetype": "text/x-python",
   "name": "python",
   "nbconvert_exporter": "python",
   "pygments_lexer": "ipython3",
   "version": "3.11.9"
  }
 },
 "nbformat": 4,
 "nbformat_minor": 5
}
