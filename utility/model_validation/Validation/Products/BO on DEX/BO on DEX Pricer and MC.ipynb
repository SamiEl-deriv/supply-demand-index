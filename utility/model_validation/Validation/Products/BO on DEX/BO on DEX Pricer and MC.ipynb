{
 "cells": [
  {
   "cell_type": "code",
   "execution_count": 12,
   "id": "4f60e8bc",
   "metadata": {},
   "outputs": [
    {
     "data": {
      "text/html": [
       "<style>.container { width:100% !important; }</style>"
      ],
      "text/plain": [
       "<IPython.core.display.HTML object>"
      ]
     },
     "metadata": {},
     "output_type": "display_data"
    }
   ],
   "source": [
    "import pandas as pd\n",
    "import numpy as np\n",
    "pd.options.mode.chained_assignment = None  # default='warn'\n",
    "import matplotlib.pyplot as plt\n",
    "import random\n",
    "import mpmath\n",
    "from scipy.stats import norm , poisson\n",
    "from IPython.display import clear_output, HTML\n",
    "display(HTML(\"<style>.container { width:100% !important; }</style>\"))"
   ]
  },
  {
   "cell_type": "code",
   "execution_count": 13,
   "id": "e4f65d81",
   "metadata": {},
   "outputs": [],
   "source": [
    "def find_psi(p, Lambda, r, vol, eta_p, eta_m, q_p):\n",
    "#     solve for psi \n",
    "    p = eval(mpmath.nstr(p))\n",
    "    alpha = q_p / (1 - eta_p) + (1 - q_p) / (1 + eta_m) - 1\n",
    "    mu = r - Lambda * alpha - 1 / 2 * vol ** 2\n",
    "    a = (vol ** 2) * eta_m * eta_p / 2\n",
    "    b = mu * eta_m * eta_p - 1 / 2 * vol ** 2 * (eta_m - eta_p)\n",
    "    c = -(vol ** 2 / 2 + mu * (eta_m - eta_p) + (r + p + Lambda) * eta_p * eta_m)\n",
    "    d = (-mu + (r + p + Lambda) * (eta_m - eta_p) - Lambda * (q_p * eta_m - (1 - q_p) * eta_p))\n",
    "    e = r + p \n",
    "    roots = sorted(np.roots([a, b, c, d, e]), reverse=True)\n",
    "    return roots\n",
    "\n",
    "def U(p, St, Lambda, r, vol, eta_p, eta_m, q_p, k):  \n",
    "#     price of binary call in laplace domain \n",
    "    roots = find_psi(p, Lambda, r, vol, eta_p, eta_m, q_p)\n",
    "    a = np.array([[1, 1, -1, -1],\n",
    "                  [roots[0], roots[1], -roots[2], -roots[3]],\n",
    "                  [1/(roots[0]*eta_m+1), 1/(roots[1]*eta_m+1), -1/(roots[2]*eta_m+1), -1/(roots[3]*eta_m+1)],\n",
    "                  [1/(roots[0]*eta_p-1), 1/(roots[1]*eta_p-1), -1/(roots[2]*eta_p-1), -1/(roots[3]*eta_p-1)]])\n",
    "    b = np.array([float(( 1 / (r + p))), 0, float(( 1 / (r + p) )), float((-1 / (r + p) ))])\n",
    "    C = np.linalg.solve(a, b)\n",
    "    x = np.log(St/k)\n",
    "    if x<0:\n",
    "        return C[0] * np.exp(roots[0] * x) + C[1] * np.exp(roots[1]*x)\n",
    "    else: \n",
    "        return C[2] * np.exp(roots[2] * x) + C[3] * np.exp(roots[3]*x) + 1/(r+p)\n",
    "\n",
    "def V(tau, St, Lambda, r, vol, eta_p, eta_m, q_p, k):\n",
    "    # invere laplace to get price of binary call \n",
    "    def U_tau(p):\n",
    "        return U(p, St, Lambda, r, vol, eta_p, eta_m, q_p, k)\n",
    "\n",
    "    return mpmath.invertlaplace(U_tau, tau, method='stehfest', degree=8)\n",
    "\n",
    "def calculate_probability(St, index, time, k):\n",
    "#     returns prob for binary call on dex\n",
    "    r = 0 \n",
    "    index_values = {\n",
    "        'DEX U900': (0.30/100, 0.04/100, 0.2, 0.25, 175200),\n",
    "        'DEX D900': (0.04/100, 0.30/100, 0.8, 0.25, 175200),\n",
    "        'DEX D600': (0.04/100, 0.20/100, 0.8, 0.2, 30*24*365),\n",
    "        'DEX U600': (0.2/100, 0.04/100, 0.2, 0.2, 30*24*365),\n",
    "        'DEX D1500': (0.04/100, 0.2/100, 0.6, 0.1, 6*24*365),\n",
    "        'DEX U1500': (0.2/100, 0.04/100, 0.4, 0.1, 6*24*365)\n",
    "    }\n",
    "    eta_p, eta_m, q_p, vol, Lambda = index_values.get(index, (None, None, None, None, None))\n",
    "    tau = time / 365 / 24 / 60 / 60\n",
    "    proba = np.abs(V(tau, St, Lambda, r, vol, eta_p, eta_m, q_p, k))\n",
    "    return proba"
   ]
  },
  {
   "cell_type": "code",
   "execution_count": 14,
   "id": "8c13c8c0",
   "metadata": {},
   "outputs": [],
   "source": [
    "def mgf_jump(q,eta_p,eta_n,t=0):\n",
    "    return q/(1-t*eta_p)+(1-q)/(1+t*eta_n)\n",
    "def inv_J_cdf_mv(cdf,q,eta_p,eta_n):\n",
    "    if cdf<1-q:\n",
    "        return eta_n*np.log(cdf/(1-q))\n",
    "    else:\n",
    "        return -eta_p*np.log((1-cdf)/(q)) \n",
    "def inv_J_cdf_perl(cdf,q,eta_p,eta_n):\n",
    "    n = np.random.uniform()\n",
    "    if cdf<q:\n",
    "        return -(eta_p*np.log(1-n))\n",
    "    # Negative jump\n",
    "    else:\n",
    "        return eta_n*np.log(1-n)\n",
    "def DEX_sim(index,cdf,n, S0=10000):\n",
    "#     generate dex path for mc price\n",
    "    dt = 1/365/86400\n",
    "    mu = 0  \n",
    "    if index == 'DEX U900':\n",
    "        eta_p = 0.30/100\n",
    "        eta_n = 0.04/100\n",
    "        q = 0.2\n",
    "        vol = 0.25\n",
    "        decay = 175200\n",
    "    elif index == 'DEX D900':\n",
    "        eta_p = 0.04/100\n",
    "        eta_n = 0.30/100\n",
    "        q = 0.8\n",
    "        vol = 0.25\n",
    "        decay = 175200\n",
    "    elif index == 'DEX D600':\n",
    "        eta_p = 0.04/100\n",
    "        eta_n = 0.20/100\n",
    "        q = 0.8\n",
    "        vol = 0.2\n",
    "        decay = 30*24*365\n",
    "    elif index == 'DEX U600':\n",
    "        eta_p = 0.2/100\n",
    "        eta_n = 0.04/100\n",
    "        q = 0.2\n",
    "        vol = 0.2\n",
    "        decay = 30*24*365\n",
    "    elif index == 'DEX D1500':\n",
    "        eta_p = 0.04/100\n",
    "        eta_n = 0.2/100\n",
    "        q = 0.6\n",
    "        vol = 0.1\n",
    "        decay = 6*24*365\n",
    "    elif index == 'DEX U1500':\n",
    "        eta_p = 0.2/100\n",
    "        eta_n = 0.04/100\n",
    "        q = 0.4\n",
    "        vol = 0.1\n",
    "        decay = 6*24*365\n",
    "    a=mgf_jump(q,eta_p,eta_n,t=1)-1\n",
    "    \n",
    "    S=np.zeros(n+1)\n",
    "    W = np.random.normal(size=n)\n",
    "    N = np.random.poisson(decay*dt,size=n)\n",
    "    S[0] = 1\n",
    "    S[1:]=np.exp((mu-vol**2/2-decay*a)*dt+vol*np.sqrt(dt)*W)\n",
    "\n",
    "    for i in range(n):\n",
    "        if N[i]>0:\n",
    "            for j in range(N[i]):\n",
    "                J = cdf(np.random.uniform(),q,eta_p,eta_n)\n",
    "                S[i+1]*=np.exp(J)    \n",
    "\n",
    "    S=S.cumprod()\n",
    "    return S*S0"
   ]
  },
  {
   "cell_type": "code",
   "execution_count": 15,
   "id": "c079a680",
   "metadata": {},
   "outputs": [
    {
     "data": {
      "image/png": "[encoded data removed]",
      "text/plain": [
       "<Figure size 640x480 with 1 Axes>"
      ]
     },
     "metadata": {},
     "output_type": "display_data"
    }
   ],
   "source": [
    "S_down_mv=DEX_sim(\"DEX U600\",cdf=inv_J_cdf_mv,n=1000, S0=10)\n",
    "plt.plot(S_down_mv);"
   ]
  },
  {
   "cell_type": "code",
   "execution_count": 16,
   "id": "aae478f1",
   "metadata": {},
   "outputs": [],
   "source": [
    "def mc_price (index, S, K, ticks, runs):\n",
    "#     returns prob higher than or lower than k\n",
    "    higher = 0\n",
    "    for i in range(runs):\n",
    "        path = DEX_sim(index,cdf=inv_J_cdf_mv,n=ticks, S0=S) \n",
    "        higher += 1 if path[-1] > K else 0\n",
    "    prob_higher = higher/runs\n",
    "    prob_lower = 1 - prob_higher\n",
    "    return round(prob_higher,10), round( prob_lower, 10)"
   ]
  },
  {
   "cell_type": "code",
   "execution_count": 17,
   "id": "1616ecdb",
   "metadata": {},
   "outputs": [
    {
     "data": {
      "text/plain": [
       "0.4578596909304906"
      ]
     },
     "execution_count": 17,
     "metadata": {},
     "output_type": "execute_result"
    }
   ],
   "source": [
    "St = 10000\n",
    "k = 10000\n",
    "time = 3600\n",
    "index = 'DEX U600'\n",
    "float(calculate_probability(St, index, time, k))"
   ]
  },
  {
   "cell_type": "code",
   "execution_count": 21,
   "id": "c3d1c593",
   "metadata": {
    "scrolled": true
   },
   "outputs": [
    {
     "data": {
      "text/plain": [
       "0.45742"
      ]
     },
     "execution_count": 21,
     "metadata": {},
     "output_type": "execute_result"
    }
   ],
   "source": [
    "mc_price(index, S=St, K=k, ticks=time, runs=50000)[0]"
   ]
  },
  {
   "cell_type": "code",
   "execution_count": 8,
   "id": "75490d1a",
   "metadata": {},
   "outputs": [
    {
     "data": {
      "text/html": [
       "<div>\n",
       "<style scoped>\n",
       "    .dataframe tbody tr th:only-of-type {\n",
       "        vertical-align: middle;\n",
       "    }\n",
       "\n",
       "    .dataframe tbody tr th {\n",
       "        vertical-align: top;\n",
       "    }\n",
       "\n",
       "    .dataframe thead th {\n",
       "        text-align: right;\n",
       "    }\n",
       "</style>\n",
       "<table border=\"1\" class=\"dataframe\">\n",
       "  <thead>\n",
       "    <tr style=\"text-align: right;\">\n",
       "      <th></th>\n",
       "      <th>index</th>\n",
       "      <th>mc_runs</th>\n",
       "      <th>S0</th>\n",
       "      <th>K</th>\n",
       "      <th>ticks</th>\n",
       "      <th>mc_higher</th>\n",
       "    </tr>\n",
       "  </thead>\n",
       "  <tbody>\n",
       "  </tbody>\n",
       "</table>\n",
       "</div>"
      ],
      "text/plain": [
       "Empty DataFrame\n",
       "Columns: [index, mc_runs, S0, K, ticks, mc_higher]\n",
       "Index: []"
      ]
     },
     "execution_count": 8,
     "metadata": {},
     "output_type": "execute_result"
    }
   ],
   "source": [
    "to_price = pd.DataFrame(columns=['index', 'mc_runs', 'S0','K','ticks', 'mc_higher'])\n",
    "to_price "
   ]
  },
  {
   "cell_type": "code",
   "execution_count": 14,
   "id": "2032b9d8",
   "metadata": {},
   "outputs": [
    {
     "name": "stdout",
     "output_type": "stream",
     "text": [
      "DEX U1500 10000 10200.0 18000\n"
     ]
    }
   ],
   "source": [
    "to_price = pd.DataFrame(columns=['index', 'mc_runs', 'S0','K','ticks', 'mc_higher'])\n",
    "# num_contracts=500\n",
    "mc_runs = 10000\n",
    "for index in ['DEX U900','DEX D900','DEX D600','DEX U600','DEX D1500','DEX U1500']:\n",
    "#     index = random.choice(['DEX U900','DEX D900','DEX D600','DEX U600','DEX D1500','DEX U1500'])\n",
    "    S = 10000\n",
    "#     K = round(S*random.uniform(0.8,1.2),2)\n",
    "    for K2 in [0.98, 0.99, 0.995, 0.9990, 1, 1.001 , 1.005, 1.01, 1.02]:\n",
    "        for ticks in [300,15*60,3600,7200,3600*5]:\n",
    "#             ticks = random.randint(1,86400)\n",
    "            K = round(S*K2,2)\n",
    "            probs=mc_price(index, S, K, ticks, runs=mc_runs)\n",
    "            print(index, S, K, ticks)\n",
    "            to_price.loc[len(to_price)] = index, mc_runs, S, K, ticks, probs[0]   \n",
    "            clear_output(wait=True)"
   ]
  },
  {
   "cell_type": "code",
   "execution_count": 15,
   "id": "af6f77d1",
   "metadata": {
    "scrolled": true
   },
   "outputs": [
    {
     "data": {
      "text/html": [
       "<div>\n",
       "<style scoped>\n",
       "    .dataframe tbody tr th:only-of-type {\n",
       "        vertical-align: middle;\n",
       "    }\n",
       "\n",
       "    .dataframe tbody tr th {\n",
       "        vertical-align: top;\n",
       "    }\n",
       "\n",
       "    .dataframe thead th {\n",
       "        text-align: right;\n",
       "    }\n",
       "</style>\n",
       "<table border=\"1\" class=\"dataframe\">\n",
       "  <thead>\n",
       "    <tr style=\"text-align: right;\">\n",
       "      <th></th>\n",
       "      <th>index</th>\n",
       "      <th>mc_runs</th>\n",
       "      <th>S0</th>\n",
       "      <th>K</th>\n",
       "      <th>ticks</th>\n",
       "      <th>mc_higher</th>\n",
       "    </tr>\n",
       "  </thead>\n",
       "  <tbody>\n",
       "    <tr>\n",
       "      <th>0</th>\n",
       "      <td>DEX U900</td>\n",
       "      <td>10000</td>\n",
       "      <td>10000</td>\n",
       "      <td>9800.0</td>\n",
       "      <td>300</td>\n",
       "      <td>1.0000</td>\n",
       "    </tr>\n",
       "    <tr>\n",
       "      <th>1</th>\n",
       "      <td>DEX U900</td>\n",
       "      <td>10000</td>\n",
       "      <td>10000</td>\n",
       "      <td>9800.0</td>\n",
       "      <td>900</td>\n",
       "      <td>1.0000</td>\n",
       "    </tr>\n",
       "    <tr>\n",
       "      <th>2</th>\n",
       "      <td>DEX U900</td>\n",
       "      <td>10000</td>\n",
       "      <td>10000</td>\n",
       "      <td>9800.0</td>\n",
       "      <td>3600</td>\n",
       "      <td>0.9985</td>\n",
       "    </tr>\n",
       "    <tr>\n",
       "      <th>3</th>\n",
       "      <td>DEX U900</td>\n",
       "      <td>10000</td>\n",
       "      <td>10000</td>\n",
       "      <td>9800.0</td>\n",
       "      <td>7200</td>\n",
       "      <td>0.9619</td>\n",
       "    </tr>\n",
       "    <tr>\n",
       "      <th>4</th>\n",
       "      <td>DEX U900</td>\n",
       "      <td>10000</td>\n",
       "      <td>10000</td>\n",
       "      <td>9800.0</td>\n",
       "      <td>18000</td>\n",
       "      <td>0.8361</td>\n",
       "    </tr>\n",
       "    <tr>\n",
       "      <th>...</th>\n",
       "      <td>...</td>\n",
       "      <td>...</td>\n",
       "      <td>...</td>\n",
       "      <td>...</td>\n",
       "      <td>...</td>\n",
       "      <td>...</td>\n",
       "    </tr>\n",
       "    <tr>\n",
       "      <th>265</th>\n",
       "      <td>DEX U1500</td>\n",
       "      <td>10000</td>\n",
       "      <td>10000</td>\n",
       "      <td>10200.0</td>\n",
       "      <td>300</td>\n",
       "      <td>0.0000</td>\n",
       "    </tr>\n",
       "    <tr>\n",
       "      <th>266</th>\n",
       "      <td>DEX U1500</td>\n",
       "      <td>10000</td>\n",
       "      <td>10000</td>\n",
       "      <td>10200.0</td>\n",
       "      <td>900</td>\n",
       "      <td>0.0001</td>\n",
       "    </tr>\n",
       "    <tr>\n",
       "      <th>267</th>\n",
       "      <td>DEX U1500</td>\n",
       "      <td>10000</td>\n",
       "      <td>10000</td>\n",
       "      <td>10200.0</td>\n",
       "      <td>3600</td>\n",
       "      <td>0.0021</td>\n",
       "    </tr>\n",
       "    <tr>\n",
       "      <th>268</th>\n",
       "      <td>DEX U1500</td>\n",
       "      <td>10000</td>\n",
       "      <td>10000</td>\n",
       "      <td>10200.0</td>\n",
       "      <td>7200</td>\n",
       "      <td>0.0080</td>\n",
       "    </tr>\n",
       "    <tr>\n",
       "      <th>269</th>\n",
       "      <td>DEX U1500</td>\n",
       "      <td>10000</td>\n",
       "      <td>10000</td>\n",
       "      <td>10200.0</td>\n",
       "      <td>18000</td>\n",
       "      <td>0.0405</td>\n",
       "    </tr>\n",
       "  </tbody>\n",
       "</table>\n",
       "<p>270 rows × 6 columns</p>\n",
       "</div>"
      ],
      "text/plain": [
       "         index  mc_runs     S0        K  ticks  mc_higher\n",
       "0     DEX U900    10000  10000   9800.0    300     1.0000\n",
       "1     DEX U900    10000  10000   9800.0    900     1.0000\n",
       "2     DEX U900    10000  10000   9800.0   3600     0.9985\n",
       "3     DEX U900    10000  10000   9800.0   7200     0.9619\n",
       "4     DEX U900    10000  10000   9800.0  18000     0.8361\n",
       "..         ...      ...    ...      ...    ...        ...\n",
       "265  DEX U1500    10000  10000  10200.0    300     0.0000\n",
       "266  DEX U1500    10000  10000  10200.0    900     0.0001\n",
       "267  DEX U1500    10000  10000  10200.0   3600     0.0021\n",
       "268  DEX U1500    10000  10000  10200.0   7200     0.0080\n",
       "269  DEX U1500    10000  10000  10200.0  18000     0.0405\n",
       "\n",
       "[270 rows x 6 columns]"
      ]
     },
     "execution_count": 15,
     "metadata": {},
     "output_type": "execute_result"
    }
   ],
   "source": [
    "to_price"
   ]
  },
  {
   "cell_type": "markdown",
   "id": "a9efe658",
   "metadata": {},
   "source": [
    "to_price.to_csv('to_price3.csv',index=False)"
   ]
  },
  {
   "cell_type": "markdown",
   "id": "a0b86461",
   "metadata": {},
   "source": [
    "### Scenarios"
   ]
  },
  {
   "cell_type": "code",
   "execution_count": 12,
   "id": "493bb88a",
   "metadata": {
    "scrolled": true
   },
   "outputs": [
    {
     "data": {
      "text/plain": [
       "0.5551049080095254"
      ]
     },
     "execution_count": 12,
     "metadata": {},
     "output_type": "execute_result"
    }
   ],
   "source": [
    "St = 10000\n",
    "k = 10000\n",
    "r = 0\n",
    "Lambda = 365*24*20\n",
    "q_p = 0.8\n",
    "eta_p = 0.04/100\n",
    "eta_m = 0.3/100\n",
    "vol = 0.25\n",
    "time = 3600\n",
    "float(calculate_probability(St, Lambda, r, vol, eta_p, eta_m, q_p, time, k))"
   ]
  },
  {
   "cell_type": "code",
   "execution_count": 13,
   "id": "34e6bdae",
   "metadata": {
    "scrolled": true
   },
   "outputs": [
    {
     "data": {
      "text/plain": [
       "0.49805209441592524"
      ]
     },
     "execution_count": 13,
     "metadata": {},
     "output_type": "execute_result"
    }
   ],
   "source": [
    "St = 10000\n",
    "k = 10000\n",
    "r = 0\n",
    "Lambda = 365*24\n",
    "q_p = 0.5\n",
    "eta_p = 0.3/100\n",
    "eta_m = 0.3/100\n",
    "vol = 0.1\n",
    "time = 3600\n",
    "float(calculate_probability(St, Lambda, r, vol, eta_p, eta_m, q_p, time, k))"
   ]
  },
  {
   "cell_type": "code",
   "execution_count": 14,
   "id": "81e010ce",
   "metadata": {
    "scrolled": true
   },
   "outputs": [
    {
     "data": {
      "text/plain": [
       "0.325354930172125"
      ]
     },
     "execution_count": 14,
     "metadata": {},
     "output_type": "execute_result"
    }
   ],
   "source": [
    "St = 10000\n",
    "k = 10000\n",
    "r = 0\n",
    "Lambda = 365*24\n",
    "q_p = 0.5\n",
    "eta_p = 0.3/100\n",
    "eta_m = 0.03/100\n",
    "vol = 0.1\n",
    "time = 3600\n",
    "float(calculate_probability(St, Lambda, r, vol, eta_p, eta_m, q_p, time, k))"
   ]
  },
  {
   "cell_type": "code",
   "execution_count": 15,
   "id": "ece63b59",
   "metadata": {
    "scrolled": true
   },
   "outputs": [
    {
     "data": {
      "text/plain": [
       "0.48247759977994065"
      ]
     },
     "execution_count": 15,
     "metadata": {},
     "output_type": "execute_result"
    }
   ],
   "source": [
    "St = 10000\n",
    "k = 10000\n",
    "r = 0\n",
    "Lambda = 365*24*10\n",
    "q_p = 0.3\n",
    "eta_p = 0.2/100\n",
    "eta_m = 0.05/100\n",
    "vol = 0.1\n",
    "time = 60 * 60 * 24\n",
    "float(calculate_probability(St, Lambda, r, vol, eta_p, eta_m, q_p, time, k))"
   ]
  },
  {
   "cell_type": "code",
   "execution_count": 16,
   "id": "83053def",
   "metadata": {
    "scrolled": true
   },
   "outputs": [
    {
     "data": {
      "text/plain": [
       "0.4995071200764869"
      ]
     },
     "execution_count": 16,
     "metadata": {},
     "output_type": "execute_result"
    }
   ],
   "source": [
    "St = 10000\n",
    "k = 10000\n",
    "r = 0\n",
    "Lambda = 365*24*60\n",
    "q_p = 0.5\n",
    "eta_p = 0.05/100\n",
    "eta_m = 0.05/100\n",
    "vol = 0.1\n",
    "time = 60*10\n",
    "float(calculate_probability(St, Lambda, r, vol, eta_p, eta_m, q_p, time, k))"
   ]
  },
  {
   "cell_type": "code",
   "execution_count": 17,
   "id": "cdb5740c",
   "metadata": {
    "scrolled": true
   },
   "outputs": [
    {
     "data": {
      "text/plain": [
       "0.5333416076182402"
      ]
     },
     "execution_count": 17,
     "metadata": {},
     "output_type": "execute_result"
    }
   ],
   "source": [
    "St = 10000\n",
    "k = 10000\n",
    "r = 0\n",
    "Lambda = 365*24*60*2\n",
    "q_p = 0.7\n",
    "eta_p = 0.01/100\n",
    "eta_m = 0.1/100\n",
    "vol = 0.5\n",
    "time = 60*10\n",
    "float(calculate_probability(St, Lambda, r, vol, eta_p, eta_m, q_p, time, k))"
   ]
  }
 ],
 "metadata": {
  "kernelspec": {
   "display_name": "Python 3 (ipykernel)",
   "language": "python",
   "name": "python3"
  },
  "language_info": {
   "codemirror_mode": {
    "name": "ipython",
    "version": 3
   },
   "file_extension": ".py",
   "mimetype": "text/x-python",
   "name": "python",
   "nbconvert_exporter": "python",
   "pygments_lexer": "ipython3",
   "version": "3.11.9"
  }
 },
 "nbformat": 4,
 "nbformat_minor": 5
}
